{
 "cells": [
  {
   "cell_type": "code",
   "execution_count": null,
   "id": "30b33bb0",
   "metadata": {},
   "outputs": [],
   "source": [
    "#Loading Math Test Data:\n",
    "# XLS_2 = pd.ExcelFile(\"gen_data/math_scores.xlsx\")\n",
    "# math_df = pd.read_excel(XLS_2, \"All\")\n",
    "# math_df.drop(\"Unnamed: 0\", axis =1)\n",
    "# # math_df.loc[(math_df[\"Year\"] == 2022) & (math_df[\"Grade\"] == \"All Grades\")]\n",
    "# # math_df_year = math_df.loc[(math_df[\"Year\"] == \"2020-21\") | (math_df[\"Year\"] == \"2021-22\")]\n",
    "# # math_df_year = math_df_year[math_df_year[\"Grade\"] == \"All Students\"]\n",
    "# # math_df_year \n",
    "# math_df[\"Mean Scale Score\"].value_counts()\n",
    "# math_df_no_s = math_df.drop(math_df[math_df[\"Mean Scale Score\"] == \"s\"].index)\n",
    "# math_df_no_s[\"Mean Scale Score\"] = math_df_no_s[\"Mean Scale Score\"].astype(float)\n",
    "# math_df_no_s.groupby(\"Year\").mean()\n",
    "# #ELA_df = None\n",
    "#math_df.drop(\"Unnamed: 0\", axis =1)"
   ]
  }
 ],
 "metadata": {
  "kernelspec": {
   "display_name": "Python (flatiron-env)",
   "language": "python",
   "name": "flatiron-env"
  },
  "language_info": {
   "codemirror_mode": {
    "name": "ipython",
    "version": 3
   },
   "file_extension": ".py",
   "mimetype": "text/x-python",
   "name": "python",
   "nbconvert_exporter": "python",
   "pygments_lexer": "ipython3",
   "version": "3.10.9"
  }
 },
 "nbformat": 4,
 "nbformat_minor": 5
}
